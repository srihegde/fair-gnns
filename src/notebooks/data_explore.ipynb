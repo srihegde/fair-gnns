{
 "cells": [
  {
   "cell_type": "code",
   "execution_count": 1,
   "id": "37b38585",
   "metadata": {},
   "outputs": [
    {
     "name": "stdout",
     "output_type": "stream",
     "text": [
      "['region_job.csv', 'region_job.embedding', 'region_job_2.embedding', 'region_job_2.csv', 'region_job_relationship.txt', 'region_job_2_relationship.txt']\n"
     ]
    }
   ],
   "source": [
    "import os\n",
    "\n",
    "pokec_dir = '../../dataset/pokec/'\n",
    "\n",
    "print(os.listdir(pokec_dir))"
   ]
  },
  {
   "cell_type": "code",
   "execution_count": 2,
   "id": "bc4ffaef",
   "metadata": {},
   "outputs": [],
   "source": [
    "lines = []\n",
    "with open(pokec_dir + 'region_job.csv', 'r') as csv_file:\n",
    "    lines = csv_file.readlines()\n",
    "\n",
    "gender_idx = 3\n",
    "region_idx = 4\n",
    "age_idx = 5\n",
    "working_idx = 6\n",
    "\n",
    "genders = []\n",
    "regions = []\n",
    "ages = []\n",
    "fields = []\n",
    "for line in lines[1:]:\n",
    "    gender = line.split(',')[gender_idx]\n",
    "    region = line.split(',')[region_idx]\n",
    "    age = line.split(',')[age_idx]\n",
    "    working = line.split(',')[working_idx]\n",
    "    \n",
    "    genders.append(int(float(gender)))\n",
    "    regions.append(int(region))\n",
    "    ages.append(int(float(age)))\n",
    "    fields.append(int(working))\n",
    "    "
   ]
  },
  {
   "cell_type": "code",
   "execution_count": 3,
   "id": "f587e8e2",
   "metadata": {},
   "outputs": [
    {
     "name": "stdout",
     "output_type": "stream",
     "text": [
      "[1, 1, 1, 0, 0, 1, 1, 1, 0, 1, 1, 1, 0, 0, 0, 1, 1, 0, 0, 0, 0, 0, 1, 1, 0, 0, 1, 0, 1, 0, 0, 1, 1, 0, 1, 1, 0, 0, 0, 1, 0, 1, 0, 1, 0, 1, 1, 0, 0, 1, 0, 1, 0, 0, 0, 1, 0, 1, 1, 1, 1, 0, 0, 0, 1, 0, 1, 0, 1, 1, 1, 0, 0, 1, 1, 0, 1, 0, 0, 1, 1, 0, 0, 0, 0, 0, 0, 1, 1, 0, 1, 1, 1, 1, 1, 1, 1, 1, 1, 1, 0, 0, 1, 1, 1, 0, 0, 0, 0, 0, 0, 1, 0, 1, 1, 0, 0, 1, 0, 1, 1, 1, 0, 0, 1, 0, 0, 1, 0, 1, 0, 0, 1, 0, 0, 0, 0, 0, 1, 0, 1, 1, 0, 1, 1, 1, 1, 1, 0, 0, 0, 1, 0, 0, 1, 0, 0, 0, 1, 0, 0, 1, 0, 1, 0, 0, 1, 1, 1, 0, 1, 1, 1, 0, 0, 1, 1, 1, 1, 1, 0, 0, 1, 0, 1, 1, 0, 0, 0, 0, 0, 0, 0, 0, 1, 0, 0, 1, 0, 1]\n",
      "[0, 1, 0, 0, 1, 1, 1, 0, 0, 0, 0, 0, 1, 1, 1, 0, 0, 0, 1, 0, 0, 0, 0, 0, 0, 0, 0, 0, 0, 0, 0, 0, 0, 0, 0, 0, 0, 0, 1, 0, 0, 0, 0, 1, 1, 1, 0, 0, 1, 1, 0, 0, 0, 0, 0, 1, 0, 1, 0, 1, 0, 0, 0, 0, 1, 0, 0, 0, 0, 0, 0, 0, 0, 0, 0, 0, 0, 0, 0, 0, 0, 1, 1, 1, 1, 1, 0, 1, 1, 1, 0, 0, 0, 0, 1, 0, 0, 1, 0, 1, 0, 0, 0, 1, 0, 0, 0, 1, 1, 0, 0, 1, 0, 0, 0, 0, 0, 0, 1, 0, 1, 0, 0, 0, 0, 0, 0, 1, 0, 1, 0, 0, 0, 0, 0, 0, 0, 1, 0, 0, 1, 0, 0, 1, 0, 0, 0, 0, 0, 0, 0, 0, 1, 0, 1, 1, 0, 0, 0, 0, 0, 0, 0, 0, 0, 1, 1, 0, 1, 0, 0, 0, 0, 0, 1, 0, 0, 1, 0, 1, 0, 0, 0, 0, 1, 0, 0, 0, 1, 1, 0, 1, 0, 0, 0, 0, 0, 1, 0, 1]\n",
      "[26, 25, 26, 38, 22, 25, 24, 23, 23, 0, 19, 26, 23, 27, 29, 23, 22, 0, 0, 41, 24, 30, 23, 36, 13, 0, 10, 0, 23, 30, 0, 22, 18, 0, 16, 22, 29, 0, 39, 25, 0, 35, 23, 21, 32, 12, 27, 23, 25, 0, 0, 23, 9, 0, 0, 30, 18, 25, 0, 25, 23, 22, 19, 24, 25, 36, 23, 18, 29, 0, 23, 0, 26, 31, 23, 0, 0, 0, 25, 24, 20, 24, 28, 23, 0, 33, 0, 24, 22, 22, 30, 0, 0, 21, 28, 0, 0, 11, 22, 23, 0, 23, 0, 0, 0, 0, 0, 0, 0, 19, 16, 13, 23, 15, 25, 22, 26, 23, 21, 22, 32, 0, 0, 29, 0, 26, 12, 26, 18, 0, 0, 24, 19, 19, 18, 0, 21, 22, 15, 27, 19, 27, 22, 25, 24, 25, 25, 18, 0, 25, 0, 21, 0, 9, 31, 27, 0, 0, 30, 17, 0, 0, 0, 14, 0, 0, 28, 35, 22, 0, 19, 0, 24, 27, 32, 27, 25, 0, 39, 0, 26, 39, 15, 15, 0, 0, 0, 32, 43, 13, 28, 13, 0, 30, 21, 0, 22, 27, 0, 0]\n",
      "[-1, -1, 3, -1, -1, -1, -1, -1, -1, -1, -1, -1, -1, -1, -1, -1, -1, -1, 0, -1, -1, -1, -1, -1, -1, -1, -1, 1, -1, -1, -1, -1, -1, -1, -1, 0, -1, -1, -1, -1, -1, -1, -1, -1, -1, -1, -1, -1, -1, -1, -1, -1, -1, 0, -1, -1, -1, -1, -1, -1, 0, -1, 0, -1, -1, -1, -1, -1, -1, -1, -1, 1, -1, -1, -1, -1, -1, -1, -1, -1, -1, -1, -1, -1, 2, -1, -1, -1, 0, -1, -1, -1, -1, -1, -1, 3, 0, -1, -1, -1, -1, -1, -1, -1, 2, 0, -1, -1, 1, -1, 0, 0, -1, -1, -1, -1, -1, -1, -1, 0, -1, 4, -1, -1, -1, 1, -1, -1, -1, -1, -1, -1, -1, -1, -1, -1, -1, -1, 0, -1, -1, -1, -1, -1, -1, -1, -1, -1, -1, -1, -1, -1, -1, -1, -1, -1, -1, -1, -1, 0, -1, -1, -1, -1, -1, -1, -1, 4, 4, -1, -1, -1, -1, 1, -1, -1, -1, -1, -1, -1, -1, -1, -1, 0, -1, -1, -1, -1, -1, -1, -1, -1, -1, -1, 0, 2, -1, -1, -1, -1]\n"
     ]
    }
   ],
   "source": [
    "print(genders[:200])\n",
    "print(regions[:200])\n",
    "print(ages[:200])\n",
    "print(fields[:200])"
   ]
  },
  {
   "cell_type": "code",
   "execution_count": 4,
   "id": "5ee3f75d",
   "metadata": {},
   "outputs": [
    {
     "name": "stdout",
     "output_type": "stream",
     "text": [
      "0.12208417506752439\n",
      "0.038766286625002776\n",
      "0.1417397745069075\n"
     ]
    }
   ],
   "source": [
    "#load necessary packages and functions\n",
    "import scipy.stats as stats\n",
    "import numpy as np\n",
    "\n",
    "#create 2x2 table\n",
    "#data = np.array([[7,12], [9,8]])\n",
    "data = np.zeros((2, max(fields) + 2))\n",
    "for i, gender in enumerate(genders):\n",
    "    field = fields[i] + 1\n",
    "    data[gender][field] += 1\n",
    "\n",
    "#Chi-squared test statistic, sample size, and minimum of rows and columns\n",
    "X2 = stats.chi2_contingency(data, correction=False)[0]\n",
    "n = np.sum(data)\n",
    "minDim = min(data.shape)-1\n",
    "\n",
    "#calculate Cramer's V \n",
    "V = np.sqrt((X2/n) / minDim)\n",
    "\n",
    "#display Cramer's V\n",
    "print(V)\n",
    "\n",
    "\n",
    "#create 2x2 table\n",
    "#data = np.array([[7,12], [9,8]])\n",
    "data = np.zeros((2, max(fields) + 2))\n",
    "for i, region in enumerate(regions):\n",
    "    field = fields[i] + 1\n",
    "    data[region][field] += 1\n",
    "\n",
    "#Chi-squared test statistic, sample size, and minimum of rows and columns\n",
    "X2 = stats.chi2_contingency(data, correction=False)[0]\n",
    "n = np.sum(data)\n",
    "minDim = min(data.shape)-1\n",
    "\n",
    "#calculate Cramer's V \n",
    "V = np.sqrt((X2/n) / minDim)\n",
    "\n",
    "#display Cramer's V\n",
    "print(V)\n",
    "\n",
    "\n",
    "data = np.zeros((6, max(fields) + 2))\n",
    "for i, age in enumerate(ages):\n",
    "    field = fields[i] + 1\n",
    "    if age == 0:\n",
    "        continue\n",
    "    if age < 18:\n",
    "        data[0][field] += 1\n",
    "    elif age < 25:\n",
    "        data[1][field] += 1\n",
    "    elif age < 33:\n",
    "        data[2][field] += 1\n",
    "    elif age < 41:\n",
    "        data[3][field] += 1\n",
    "    elif age < 61:\n",
    "        data[4][field] += 1\n",
    "    else:\n",
    "        data[5][field] += 1\n",
    "\n",
    "#Chi-squared test statistic, sample size, and minimum of rows and columns\n",
    "X2 = stats.chi2_contingency(data, correction=False)[0]\n",
    "n = np.sum(data)\n",
    "minDim = min(data.shape)-1\n",
    "\n",
    "#calculate Cramer's V \n",
    "V = np.sqrt((X2/n) / minDim)\n",
    "\n",
    "#display Cramer's V\n",
    "print(V)"
   ]
  },
  {
   "cell_type": "code",
   "execution_count": 5,
   "id": "edef33a0",
   "metadata": {},
   "outputs": [
    {
     "name": "stdout",
     "output_type": "stream",
     "text": [
      "0.3133047527108656\n",
      "0.09906574942421885\n",
      "0.36227034843369893\n"
     ]
    }
   ],
   "source": [
    "#load necessary packages and functions\n",
    "import scipy.stats as stats\n",
    "import numpy as np\n",
    "\n",
    "data = np.zeros((2, max(fields) + 1))\n",
    "for i, gender in enumerate(genders):\n",
    "    field = fields[i]\n",
    "    if field == -1:\n",
    "        continue\n",
    "    \n",
    "    data[gender][field] += 1\n",
    "\n",
    "#Chi-squared test statistic, sample size, and minimum of rows and columns\n",
    "X2 = stats.chi2_contingency(data, correction=False)[0]\n",
    "n = np.sum(data)\n",
    "minDim = min(data.shape)-1\n",
    "\n",
    "#calculate Cramer's V \n",
    "V = np.sqrt((X2/n) / minDim)\n",
    "\n",
    "#display Cramer's V\n",
    "print(V)\n",
    "\n",
    "\n",
    "data = np.zeros((2, max(fields) + 1))\n",
    "for i, region in enumerate(regions):\n",
    "    field = fields[i]\n",
    "    if field == -1:\n",
    "        continue\n",
    "    \n",
    "    data[region][field] += 1\n",
    "\n",
    "#Chi-squared test statistic, sample size, and minimum of rows and columns\n",
    "X2 = stats.chi2_contingency(data, correction=False)[0]\n",
    "n = np.sum(data)\n",
    "minDim = min(data.shape)-1\n",
    "\n",
    "#calculate Cramer's V \n",
    "V = np.sqrt((X2/n) / minDim)\n",
    "\n",
    "#display Cramer's V\n",
    "print(V)\n",
    "\n",
    "\n",
    "data = np.zeros((6, max(fields) + 1))\n",
    "for i, age in enumerate(ages):\n",
    "    field = fields[i]\n",
    "    if field == -1:\n",
    "        continue\n",
    "        \n",
    "    if age == 0:\n",
    "        continue\n",
    "    if age < 18:\n",
    "        data[0][field] += 1\n",
    "    elif age < 25:\n",
    "        data[1][field] += 1\n",
    "    elif age < 33:\n",
    "        data[2][field] += 1\n",
    "    elif age < 41:\n",
    "        data[3][field] += 1\n",
    "    elif age < 61:\n",
    "        data[4][field] += 1\n",
    "    else:\n",
    "        data[5][field] += 1\n",
    "\n",
    "#Chi-squared test statistic, sample size, and minimum of rows and columns\n",
    "X2 = stats.chi2_contingency(data, correction=False)[0]\n",
    "n = np.sum(data)\n",
    "minDim = min(data.shape)-1\n",
    "\n",
    "#calculate Cramer's V \n",
    "V = np.sqrt((X2/n) / minDim)\n",
    "\n",
    "#display Cramer's V\n",
    "print(V)"
   ]
  },
  {
   "cell_type": "code",
   "execution_count": 6,
   "id": "8818c206",
   "metadata": {},
   "outputs": [
    {
     "name": "stdout",
     "output_type": "stream",
     "text": [
      "['soc-pokec-readme.txt', 'soc-pokec-relationships.txt', 'soc-pokec-profiles.txt']\n"
     ]
    }
   ],
   "source": [
    "import os\n",
    "\n",
    "pokec_dir = '../../dataset/matt-pokec/'\n",
    "\n",
    "print(os.listdir(pokec_dir))"
   ]
  },
  {
   "cell_type": "code",
   "execution_count": 7,
   "id": "b4d6f9d4",
   "metadata": {},
   "outputs": [
    {
     "name": "stdout",
     "output_type": "stream",
     "text": [
      "['========================================================================\\n', '  Pokec social network\\n', '========================================================================\\n', '\\n', 'Pokec is the most popular Slovak on-line social network. These datasets\\n', 'are anonymized and contains relationships and user profile data of the\\n', 'whole network. Profile data are in Slovak language. Friendships in the\\n', 'Pokec network are oriented. Datasets were crawled during MAY 25-27 2012.\\n', '\\n', 'Author: Lubos Takac, lubos.takac@gmail.com\\n', '\\n', '////////////////////////////////////////////////////////////////////////\\n', 'DATASET STATISTICS:\\n', '\\n', 'Nodes ............................  1632803\\n', 'Edges ............................ 30622564\\n', 'Nodes in largest WCC .............  1632803 (1.000)\\n', 'Edges in largest WCC ............. 30622564 (1.000)\\n', 'Nodes in largest SCC .............  1304537 (0.799)\\n', 'Edges in largest SCC ............. 29183655 (0.953)\\n', 'Average clustering coefficient ...   0.1094\\n', 'Number of triangles .............. 32557458\\n', 'Fraction of closed triangles .....  0.01611\\n', 'Diameter (longest shortest path) .       11\\n', '90-percentile effective diameter .      5.3\\n', '\\n', '////////////////////////////////////////////////////////////////////////\\n', 'FILES:\\n', '\\n', 'soc-pokec-relationships.txt\\n', '  Contains friendship relations between users. There is one relation per\\n', '  line. Values in the line are tab separated. For example if a row \\n', '  contains 3 5, this means that user 3 has a friend: user 5.\\n', '\\t\\n', 'soc-pokec-profiles.txt\\n', '  Contains profile data in a tab separated form. Columns with no data\\n', '  contain the string \"null\". Data are in Slovak Language. \\n', '\\n', '  Columns (attributes):\\n', '    user_id\\n', '    public\\n', '    completion_percentage\\n', '    gender\\n', '    region\\n', '    last_login\\n', '    registration\\n', '    AGE\\n', '    body\\n', '    I_am_working_in_field\\n', '    spoken_languages\\n', '    hobbies\\n', '    I_most_enjoy_good_food\\n', '    pets\\n', '    body_type\\n', '    my_eyesight\\n', '    eye_color\\n', '    hair_color\\n', '    hair_type\\n', '    completed_level_of_education\\n', '    favourite_color\\n', '    relation_to_smoking\\n', '    relation_to_alcohol\\n', '    sign_in_zodiac\\n', '    on_pokec_i_am_looking_for\\n', '    love_is_for_me\\n', '    relation_to_casual_sex\\n', '    my_partner_should_be\\n', '    marital_status\\n', '    children\\n', '    relation_to_children\\n', '    I_like_movies\\n', '    I_like_watching_movie\\n', '    I_like_music\\n', '    I_mostly_like_listening_to_music\\n', '    the_idea_of_good_evening\\n', '    I_like_specialties_from_kitchen\\n', '    fun\\n', '    I_am_going_to_concerts\\n', '    my_active_sports\\n', '    my_passive_sports\\n', '    profession\\n', '    I_like_books\\n', '    life_style\\n', '    music\\n', '    cars\\n', '    politics\\n', '    relationships\\n', '    art_culture\\n', '    hobbies_interests\\n', '    science_technologies\\n', '    computers_internet\\n', '    education\\n', '    sport\\n', '    movies\\n', '    travelling\\n', '    health\\n', '    companies_brands\\n', '    more\\n', '\\t\\n', '  Column descriptions:\\n', '    user_id:\\n', \"      integer, users' nicknames were mapped to integers\\n\", '\\t  public:\\n', '      bool, 1 - all friendships are public  \\n', '    completion_percentage:\\n', '      integer, percentage proportion of filled values\\n', '    gender: \\n', '      bool, 1 - man\\n', '    region:\\n', '      string, mostly regions in Slovakia (example: \"zilinsky kraj,\\n', '      kysucke nove mesto\" means county Zilina, town Kysucke Nove Mesto,\\n', '      Slovakia), some foreign countries (example: \"zahranicie, \\n', '      zahranicie - nemecko\" means foreign country Germany (nemecko)),\\n', '      some Czech regions (example: \"ceska republika, cz - ostravsky \\n', '      kraj\" means Czech Republic, county Ostrava (ostravsky kraj))\\n', '    last_login:\\n', '      datetime, last time at which the user has logged in\\n', '    registration:\\n', '      datetime, time at which the user registered at the site\\n', '    age:\\n', '      integer, 0 - age attribute not set\\n', '  \\n', '  Notes:\\n', '    Other attributes are free fillable by user. They contain opinions\\n', '    in text form or URL of club which the user prefer. There are 163\\n', '    records without any data and completion_percentage=0. (I think that\\n', '    these are\\tthe profiles of people who have canceled their accounts\\n', '    during the data crawling.)\\n', '////////////////////////////////////////////////////////////////////////']\n"
     ]
    }
   ],
   "source": [
    "lines = []\n",
    "with open(pokec_dir + 'soc-pokec-readme.txt', 'r') as read_file:\n",
    "    lines = read_file.readlines()\n",
    "print(lines)\n"
   ]
  },
  {
   "cell_type": "code",
   "execution_count": 8,
   "id": "756512bc",
   "metadata": {},
   "outputs": [
    {
     "name": "stdout",
     "output_type": "stream",
     "text": [
      "1632803\n"
     ]
    }
   ],
   "source": [
    "lines = []\n",
    "with open(pokec_dir + 'soc-pokec-profiles.txt', 'r') as read_file:\n",
    "    lines = read_file.readlines()\n",
    "print(len(lines))\n",
    "\n",
    "gender_idx = 3\n",
    "region_idx = 4\n",
    "age_idx = 7\n",
    "working_idx = 9\n",
    "\n",
    "genders = []\n",
    "regions = []\n",
    "ages = []\n",
    "fields = []\n",
    "for line in lines[1:]:\n",
    "    \n",
    "    gender = line.split('\\t')[gender_idx]\n",
    "    region = line.split('\\t')[region_idx]\n",
    "    age = line.split('\\t')[age_idx]\n",
    "    working = line.split('\\t')[working_idx]\n",
    "    \n",
    "    genders.append(gender)\n",
    "    regions.append(region)\n",
    "    ages.append(age)\n",
    "    fields.append(working)\n",
    "    "
   ]
  },
  {
   "cell_type": "code",
   "execution_count": 9,
   "id": "a1222cf0",
   "metadata": {},
   "outputs": [],
   "source": [
    "region_counts = {}\n",
    "for region in regions:\n",
    "    if region not in region_counts:\n",
    "        region_counts[region] = 0\n",
    "    region_counts[region] += 1\n",
    "\n",
    "field_counts = {}\n",
    "for field in fields:\n",
    "    if field not in field_counts:\n",
    "        field_counts[field] = 0\n",
    "    field_counts[field] += 1\n"
   ]
  },
  {
   "cell_type": "code",
   "execution_count": 10,
   "id": "b0a597e7",
   "metadata": {},
   "outputs": [
    {
     "name": "stdout",
     "output_type": "stream",
     "text": [
      "188\n",
      "140201\n"
     ]
    }
   ],
   "source": [
    "print(len(region_counts.keys()))\n",
    "print(len(field_counts.keys()))"
   ]
  },
  {
   "cell_type": "code",
   "execution_count": null,
   "id": "bc01d2e9",
   "metadata": {},
   "outputs": [],
   "source": []
  }
 ],
 "metadata": {
  "kernelspec": {
   "display_name": "Python 3",
   "language": "python",
   "name": "python3"
  },
  "language_info": {
   "codemirror_mode": {
    "name": "ipython",
    "version": 3
   },
   "file_extension": ".py",
   "mimetype": "text/x-python",
   "name": "python",
   "nbconvert_exporter": "python",
   "pygments_lexer": "ipython3",
   "version": "3.6.8"
  }
 },
 "nbformat": 4,
 "nbformat_minor": 5
}
