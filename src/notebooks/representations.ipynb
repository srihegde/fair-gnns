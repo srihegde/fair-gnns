{
 "cells": [
  {
   "cell_type": "code",
   "execution_count": 1,
   "id": "51b8cf87",
   "metadata": {},
   "outputs": [],
   "source": [
    "\n",
    "import itertools\n",
    "import numpy as np\n",
    "import scipy.sparse as sp"
   ]
  },
  {
   "cell_type": "code",
   "execution_count": 2,
   "id": "e75750a9",
   "metadata": {},
   "outputs": [
    {
     "name": "stderr",
     "output_type": "stream",
     "text": [
      "Using backend: pytorch\n",
      "[15:45:42] /opt/dgl/src/runtime/tensordispatch.cc:43: TensorDispatcher: dlopen failed: /fs/classhomes/fall2021/cmsc742/cs742008/miniconda3/envs/py37/lib/python3.7/site-packages/dgl/tensoradapter/pytorch/libtensoradapter_pytorch_1.10.1.so: cannot open shared object file: No such file or directory\n"
     ]
    },
    {
     "name": "stdout",
     "output_type": "stream",
     "text": [
      "Namespace(acc=0.688, alpha=4, attn_drop=0.0, beta=0.01, cuda=True, dataset='nba', dropout=0.5, epochs=2000, fastmode=False, hidden=128, label_number=500, lr=0.001, model='GAT', negative_slope=0.2, no_cuda=False, num_heads=1, num_hidden=64, num_layers=1, num_out_heads=1, residual=False, roc=0.745, seed=42, sens_number=200, weight_decay=1e-05)\n",
      "nba\n",
      "nba\n",
      "Loading nba dataset from ../../dataset/NBA\n",
      "213\n"
     ]
    }
   ],
   "source": [
    "#%%\n",
    "import time\n",
    "import argparse\n",
    "import numpy as np\n",
    "import pdb\n",
    "\n",
    "import torch\n",
    "import torch.nn as nn\n",
    "import torch.nn.functional as F\n",
    "import torch.optim as optim\n",
    "import sys\n",
    "# insert at 1, 0 is the script path (or '' in REPL)\n",
    "sys.path.insert(1, '../')\n",
    "\n",
    "from utils import load_data, accuracy,load_pokec\n",
    "from models.FairGNN import FairGNN, FairGNN1\n",
    "\n",
    "# Training settings\n",
    "parser = argparse.ArgumentParser()\n",
    "parser.add_argument('--no-cuda', action='store_true', default=False,\n",
    "                    help='Disables CUDA training.')\n",
    "parser.add_argument('--fastmode', action='store_true', default=False,\n",
    "                    help='Validate during training pass.')\n",
    "parser.add_argument('--seed', type=int, default=42, help='Random seed.')\n",
    "parser.add_argument('--epochs', type=int, default=2000,\n",
    "                    help='Number of epochs to train.')\n",
    "parser.add_argument('--lr', type=float, default=0.001,\n",
    "                    help='Initial learning rate.')\n",
    "parser.add_argument('--weight_decay', type=float, default=1e-5,\n",
    "                    help='Weight decay (L2 loss on parameters).')\n",
    "parser.add_argument('--hidden', type=int, default=128,\n",
    "                    help='Number of hidden units of the sensitive attribute estimator')\n",
    "parser.add_argument('--dropout', type=float, default=.5,\n",
    "                    help='Dropout rate (1 - keep probability).')\n",
    "parser.add_argument('--alpha', type=float, default=4,\n",
    "                    help='The hyperparameter of alpha')\n",
    "parser.add_argument('--beta', type=float, default=0.01,\n",
    "                    help='The hyperparameter of beta')\n",
    "parser.add_argument('--model', type=str, default=\"GAT\",\n",
    "                    help='the type of model GCN/GAT')\n",
    "parser.add_argument('--dataset', type=str, default='nba',\n",
    "                    choices=['pokec_z','pokec_n','nba'])\n",
    "parser.add_argument('--num-hidden', type=int, default=64,\n",
    "                    help='Number of hidden units of classifier.')\n",
    "parser.add_argument(\"--num-heads\", type=int, default=1,\n",
    "                        help=\"number of hidden attention heads\")\n",
    "parser.add_argument(\"--num-out-heads\", type=int, default=1,\n",
    "                    help=\"number of output attention heads\")\n",
    "parser.add_argument(\"--num-layers\", type=int, default=1,\n",
    "                    help=\"number of hidden layers\")\n",
    "parser.add_argument(\"--residual\", action=\"store_true\", default=False,\n",
    "                    help=\"use residual connection\")\n",
    "parser.add_argument(\"--attn-drop\", type=float, default=.0,\n",
    "                    help=\"attention dropout\")\n",
    "parser.add_argument('--negative-slope', type=float, default=0.2,\n",
    "                    help=\"the negative slope of leaky relu\")\n",
    "parser.add_argument('--acc', type=float, default=0.688,\n",
    "                    help='the selected FairGNN accuracy on val would be at least this high')\n",
    "parser.add_argument('--roc', type=float, default=0.745,\n",
    "                    help='the selected FairGNN ROC score on val would be at least this high')\n",
    "parser.add_argument('--sens_number', type=int, default=200,\n",
    "                    help=\"the number of sensitive attributes\")\n",
    "parser.add_argument('--label_number', type=int, default=500,\n",
    "                    help=\"the number of labels\")\n",
    "\n",
    "args = parser.parse_known_args()[0]\n",
    "args.cuda = not args.no_cuda and torch.cuda.is_available()\n",
    "print(args)\n",
    "#%%\n",
    "np.random.seed(args.seed)\n",
    "torch.manual_seed(args.seed)\n",
    "if args.cuda:\n",
    "    torch.cuda.manual_seed(args.seed)\n",
    "\n",
    "# Load datprint(args.dataset)\n",
    "print(args.dataset)\n",
    "\n",
    "if args.dataset != 'nba':\n",
    "    if args.dataset == 'pokec_z':\n",
    "        dataset = 'region_job'\n",
    "    else:\n",
    "        dataset = 'region_job_2'\n",
    "    sens_attr = \"region\"\n",
    "    predict_attr = \"I_am_working_in_field\"\n",
    "    label_number = args.label_number\n",
    "    sens_number = args.sens_number\n",
    "    seed = 20\n",
    "    path=\"../../dataset/pokec/\"\n",
    "    test_idx=False\n",
    "else:\n",
    "    dataset = 'nba'\n",
    "    sens_attr = \"country\"\n",
    "    predict_attr = \"SALARY\"\n",
    "    label_number = 100\n",
    "    sens_number = 50\n",
    "    seed = 20\n",
    "    path = \"../../dataset/NBA\"\n",
    "    test_idx = True\n",
    "print(dataset)\n",
    "\n",
    "adj, features, labels, idx_train, idx_val, idx_test,sens,idx_sens_train = load_pokec(dataset,\n",
    "                                                                                    sens_attr,\n",
    "                                                                                    predict_attr,\n",
    "                                                                                    path=path,\n",
    "                                                                                    label_number=label_number,\n",
    "                                                                                    sens_number=sens_number,\n",
    "                                                                                    seed=seed,test_idx=test_idx)\n",
    "print(len(idx_test))\n",
    "#%%\n",
    "import dgl\n",
    "\n",
    "from utils import feature_norm\n",
    "# G = dgl.DGLGraph()\n",
    "# G.from_scipy_sparse_matrix(adj)\n",
    "G = dgl.from_scipy(adj)\n",
    "if dataset == 'nba':\n",
    "    features = feature_norm(features)\n",
    "\n",
    "\n",
    "def fair_metric(output,idx):\n",
    "    val_y = labels[idx].cpu().numpy()\n",
    "    idx_s0 = sens.cpu().numpy()[idx.cpu().numpy()]==0\n",
    "    idx_s1 = sens.cpu().numpy()[idx.cpu().numpy()]==1\n",
    "\n",
    "    idx_s0_y1 = np.bitwise_and(idx_s0,val_y==1)\n",
    "    idx_s1_y1 = np.bitwise_and(idx_s1,val_y==1)\n",
    "\n",
    "    pred_y = (output[idx].squeeze()>0).type_as(labels).cpu().numpy()\n",
    "    parity = abs(sum(pred_y[idx_s0])/sum(idx_s0)-sum(pred_y[idx_s1])/sum(idx_s1))\n",
    "    equality = abs(sum(pred_y[idx_s0_y1])/sum(idx_s0_y1)-sum(pred_y[idx_s1_y1])/sum(idx_s1_y1))\n",
    "\n",
    "    return parity,equality\n",
    "#%%\n",
    "labels[labels>1]=1\n",
    "if sens_attr:\n",
    "    sens[sens>0]=1\n",
    "# Model and optimizer\n",
    "\n",
    "model = FairGNN1(nfeat = features.shape[1], args = args)\n",
    "model.estimator.load_state_dict(torch.load(\"../checkpoint/GCN_sens_{}_ns_{}\".format(dataset,sens_number)))\n",
    "if args.cuda:\n",
    "    # pdb.set_trace()\n",
    "    G = G.to(torch.device('cuda:0'))\n",
    "    model.cuda()\n",
    "    features = features.cuda()\n",
    "    labels = labels.cuda()\n",
    "    idx_train = idx_train.cuda()\n",
    "    idx_val = idx_val.cuda()\n",
    "    idx_test = idx_test.cuda()\n",
    "    sens = sens.cuda()\n",
    "    idx_sens_train = idx_sens_train.cuda()\n",
    "\n"
   ]
  },
  {
   "cell_type": "code",
   "execution_count": 3,
   "id": "6f8c4296",
   "metadata": {},
   "outputs": [
    {
     "name": "stdout",
     "output_type": "stream",
     "text": [
      "=================================\n",
      "Epoch: 0554 cov: 0.0035 cls: 0.4709 adv: 0.5751 acc_val: 0.6948 roc_val: 0.7455 parity_val: 0.0355 equality: 0.0194\n",
      "Test: accuracy: 0.6948 roc: 0.7455 acc_sens: 0.8685 parity: 0.0355 equality: 0.0194\n",
      "=================================\n",
      "Epoch: 0584 cov: 0.0030 cls: 0.4994 adv: 0.5705 acc_val: 0.6948 roc_val: 0.7583 parity_val: 0.0590 equality: 0.0284\n",
      "Test: accuracy: 0.6948 roc: 0.7583 acc_sens: 0.8685 parity: 0.0590 equality: 0.0284\n",
      "=================================\n",
      "Epoch: 0585 cov: 0.0074 cls: 0.4979 adv: 0.5236 acc_val: 0.6995 roc_val: 0.7586 parity_val: 0.0655 equality: 0.0194\n",
      "Test: accuracy: 0.6995 roc: 0.7586 acc_sens: 0.8685 parity: 0.0655 equality: 0.0194\n",
      "=================================\n",
      "Epoch: 0586 cov: 0.0061 cls: 0.5305 adv: 0.5665 acc_val: 0.7042 roc_val: 0.7564 parity_val: 0.0799 equality: 0.0077\n",
      "Test: accuracy: 0.7042 roc: 0.7564 acc_sens: 0.8685 parity: 0.0799 equality: 0.0077\n",
      "=================================\n",
      "Epoch: 0587 cov: 0.0061 cls: 0.4905 adv: 0.5775 acc_val: 0.6995 roc_val: 0.7549 parity_val: 0.0969 equality: 0.0077\n",
      "Test: accuracy: 0.6995 roc: 0.7549 acc_sens: 0.8685 parity: 0.0969 equality: 0.0077\n",
      "=================================\n",
      "Epoch: 0588 cov: 0.0033 cls: 0.4651 adv: 0.6011 acc_val: 0.6995 roc_val: 0.7508 parity_val: 0.0839 equality: 0.0198\n",
      "Test: accuracy: 0.6995 roc: 0.7508 acc_sens: 0.8685 parity: 0.0839 equality: 0.0198\n",
      "=================================\n",
      "Epoch: 0589 cov: 0.0091 cls: 0.5464 adv: 0.5685 acc_val: 0.7042 roc_val: 0.7499 parity_val: 0.0904 equality: 0.0198\n",
      "Test: accuracy: 0.7042 roc: 0.7499 acc_sens: 0.8685 parity: 0.0904 equality: 0.0198\n",
      "=================================\n",
      "Epoch: 0590 cov: 0.0073 cls: 0.5721 adv: 0.5493 acc_val: 0.6995 roc_val: 0.7492 parity_val: 0.0813 equality: 0.0439\n",
      "Test: accuracy: 0.6995 roc: 0.7492 acc_sens: 0.8685 parity: 0.0813 equality: 0.0439\n",
      "=================================\n",
      "Epoch: 0591 cov: 0.0054 cls: 0.4497 adv: 0.6093 acc_val: 0.7042 roc_val: 0.7488 parity_val: 0.0644 equality: 0.0439\n",
      "Test: accuracy: 0.7042 roc: 0.7488 acc_sens: 0.8685 parity: 0.0644 equality: 0.0439\n",
      "=================================\n",
      "Epoch: 0592 cov: 0.0017 cls: 0.4498 adv: 0.5385 acc_val: 0.7089 roc_val: 0.7477 parity_val: 0.0709 equality: 0.0439\n",
      "Test: accuracy: 0.7089 roc: 0.7477 acc_sens: 0.8685 parity: 0.0709 equality: 0.0439\n",
      "=================================\n",
      "Epoch: 0593 cov: 0.0009 cls: 0.5211 adv: 0.5576 acc_val: 0.7183 roc_val: 0.7488 parity_val: 0.0370 equality: 0.0439\n",
      "Test: accuracy: 0.7183 roc: 0.7488 acc_sens: 0.8685 parity: 0.0370 equality: 0.0439\n",
      "=================================\n",
      "Epoch: 0594 cov: 0.0115 cls: 0.5177 adv: 0.5366 acc_val: 0.7136 roc_val: 0.7487 parity_val: 0.0565 equality: 0.0198\n",
      "Test: accuracy: 0.7136 roc: 0.7487 acc_sens: 0.8685 parity: 0.0565 equality: 0.0198\n",
      "=================================\n",
      "Epoch: 0595 cov: 0.0033 cls: 0.4762 adv: 0.5439 acc_val: 0.7089 roc_val: 0.7495 parity_val: 0.0889 equality: 0.0164\n",
      "Test: accuracy: 0.7089 roc: 0.7495 acc_sens: 0.8685 parity: 0.0889 equality: 0.0164\n",
      "=================================\n",
      "Epoch: 0596 cov: 0.0009 cls: 0.4956 adv: 0.5551 acc_val: 0.7136 roc_val: 0.7501 parity_val: 0.0615 equality: 0.0194\n",
      "Test: accuracy: 0.7136 roc: 0.7501 acc_sens: 0.8685 parity: 0.0615 equality: 0.0194\n",
      "=================================\n",
      "Epoch: 0634 cov: 0.0043 cls: 0.4802 adv: 0.5727 acc_val: 0.6901 roc_val: 0.7514 parity_val: 0.1567 equality: 0.1596\n",
      "Test: accuracy: 0.6901 roc: 0.7514 acc_sens: 0.8685 parity: 0.1567 equality: 0.1596\n",
      "=================================\n",
      "Epoch: 0635 cov: 0.0011 cls: 0.4383 adv: 0.5510 acc_val: 0.6901 roc_val: 0.7527 parity_val: 0.1333 equality: 0.1119\n",
      "Test: accuracy: 0.6901 roc: 0.7527 acc_sens: 0.8685 parity: 0.1333 equality: 0.1119\n",
      "=================================\n",
      "Epoch: 0637 cov: 0.0012 cls: 0.4581 adv: 0.5693 acc_val: 0.6901 roc_val: 0.7549 parity_val: 0.1228 equality: 0.0284\n",
      "Test: accuracy: 0.6901 roc: 0.7549 acc_sens: 0.8685 parity: 0.1228 equality: 0.0284\n",
      "=================================\n",
      "Epoch: 0652 cov: 0.0013 cls: 0.5011 adv: 0.5439 acc_val: 0.6901 roc_val: 0.7599 parity_val: 0.0221 equality: 0.1175\n",
      "Test: accuracy: 0.6901 roc: 0.7599 acc_sens: 0.8685 parity: 0.0221 equality: 0.1175\n",
      "=================================\n",
      "Epoch: 0653 cov: 0.0015 cls: 0.4699 adv: 0.5227 acc_val: 0.7042 roc_val: 0.7593 parity_val: 0.0289 equality: 0.0469\n",
      "Test: accuracy: 0.7042 roc: 0.7593 acc_sens: 0.8685 parity: 0.0289 equality: 0.0469\n",
      "=================================\n",
      "Epoch: 0654 cov: 0.0038 cls: 0.5787 adv: 0.5912 acc_val: 0.7183 roc_val: 0.7629 parity_val: 0.0532 equality: 0.0813\n",
      "Test: accuracy: 0.7183 roc: 0.7629 acc_sens: 0.8685 parity: 0.0532 equality: 0.0813\n",
      "=================================\n",
      "Epoch: 0662 cov: 0.0024 cls: 0.4100 adv: 0.5688 acc_val: 0.6901 roc_val: 0.7619 parity_val: 0.0608 equality: 0.0271\n",
      "Test: accuracy: 0.6901 roc: 0.7619 acc_sens: 0.8685 parity: 0.0608 equality: 0.0271\n",
      "=================================\n",
      "Epoch: 0663 cov: 0.0086 cls: 0.4521 adv: 0.5406 acc_val: 0.6901 roc_val: 0.7565 parity_val: 0.0557 equality: 0.0211\n",
      "Test: accuracy: 0.6901 roc: 0.7565 acc_sens: 0.8685 parity: 0.0557 equality: 0.0211\n",
      "=================================\n",
      "Epoch: 0664 cov: 0.0018 cls: 0.4277 adv: 0.5873 acc_val: 0.6948 roc_val: 0.7508 parity_val: 0.0441 equality: 0.0813\n",
      "Test: accuracy: 0.6948 roc: 0.7508 acc_sens: 0.8685 parity: 0.0441 equality: 0.0813\n",
      "=================================\n",
      "Epoch: 0679 cov: 0.0010 cls: 0.4868 adv: 0.5249 acc_val: 0.6901 roc_val: 0.7552 parity_val: 0.1228 equality: 0.0762\n",
      "Test: accuracy: 0.6901 roc: 0.7552 acc_sens: 0.8685 parity: 0.1228 equality: 0.0762\n",
      "=================================\n",
      "Epoch: 0680 cov: 0.0042 cls: 0.3841 adv: 0.5587 acc_val: 0.6901 roc_val: 0.7565 parity_val: 0.0810 equality: 0.0766\n",
      "Test: accuracy: 0.6901 roc: 0.7565 acc_sens: 0.8685 parity: 0.0810 equality: 0.0766\n",
      "=================================\n",
      "Epoch: 0682 cov: 0.0029 cls: 0.5214 adv: 0.5650 acc_val: 0.6948 roc_val: 0.7562 parity_val: 0.0691 equality: 0.0293\n",
      "Test: accuracy: 0.6948 roc: 0.7562 acc_sens: 0.8685 parity: 0.0691 equality: 0.0293\n",
      "=================================\n",
      "Epoch: 0683 cov: 0.0007 cls: 0.4482 adv: 0.5685 acc_val: 0.6948 roc_val: 0.7552 parity_val: 0.0980 equality: 0.0645\n",
      "Test: accuracy: 0.6948 roc: 0.7552 acc_sens: 0.8685 parity: 0.0980 equality: 0.0645\n",
      "=================================\n",
      "Epoch: 0684 cov: 0.0035 cls: 0.5282 adv: 0.5121 acc_val: 0.6901 roc_val: 0.7510 parity_val: 0.1308 equality: 0.0400\n",
      "Test: accuracy: 0.6901 roc: 0.7510 acc_sens: 0.8685 parity: 0.1308 equality: 0.0400\n",
      "=================================\n",
      "Epoch: 0685 cov: 0.0010 cls: 0.4655 adv: 0.5469 acc_val: 0.6948 roc_val: 0.7462 parity_val: 0.1297 equality: 0.0633\n",
      "Test: accuracy: 0.6948 roc: 0.7462 acc_sens: 0.8685 parity: 0.1297 equality: 0.0633\n",
      "=================================\n",
      "Epoch: 0709 cov: 0.0035 cls: 0.4577 adv: 0.5493 acc_val: 0.6901 roc_val: 0.7478 parity_val: 0.1149 equality: 0.1123\n",
      "Test: accuracy: 0.6901 roc: 0.7478 acc_sens: 0.8685 parity: 0.1149 equality: 0.1123\n",
      "=================================\n",
      "Epoch: 0779 cov: 0.0054 cls: 0.4000 adv: 0.5333 acc_val: 0.6901 roc_val: 0.7561 parity_val: 0.1127 equality: 0.0753\n",
      "Test: accuracy: 0.6901 roc: 0.7561 acc_sens: 0.8685 parity: 0.1127 equality: 0.0753\n",
      "=================================\n",
      "Epoch: 0852 cov: 0.0018 cls: 0.4576 adv: 0.5861 acc_val: 0.6901 roc_val: 0.7617 parity_val: 0.1513 equality: 0.2199\n",
      "Test: accuracy: 0.6901 roc: 0.7617 acc_sens: 0.8685 parity: 0.1513 equality: 0.2199\n",
      "=================================\n",
      "Epoch: 0863 cov: 0.0055 cls: 0.3382 adv: 0.5770 acc_val: 0.6901 roc_val: 0.7553 parity_val: 0.1257 equality: 0.0873\n",
      "Test: accuracy: 0.6901 roc: 0.7553 acc_sens: 0.8685 parity: 0.1257 equality: 0.0873\n",
      "=================================\n",
      "Epoch: 0864 cov: 0.0030 cls: 0.4076 adv: 0.5769 acc_val: 0.6948 roc_val: 0.7559 parity_val: 0.1297 equality: 0.0633\n",
      "Test: accuracy: 0.6948 roc: 0.7559 acc_sens: 0.8685 parity: 0.1297 equality: 0.0633\n",
      "=================================\n",
      "Epoch: 0867 cov: 0.0001 cls: 0.3691 adv: 0.5519 acc_val: 0.6901 roc_val: 0.7544 parity_val: 0.0611 equality: 0.0336\n",
      "Test: accuracy: 0.6901 roc: 0.7544 acc_sens: 0.8685 parity: 0.0611 equality: 0.0336\n",
      "=================================\n",
      "Epoch: 0868 cov: 0.0021 cls: 0.4069 adv: 0.5496 acc_val: 0.6948 roc_val: 0.7531 parity_val: 0.0286 equality: 0.0697\n",
      "Test: accuracy: 0.6948 roc: 0.7531 acc_sens: 0.8685 parity: 0.0286 equality: 0.0697\n",
      "=================================\n",
      "Epoch: 0869 cov: 0.0036 cls: 0.4835 adv: 0.5516 acc_val: 0.6901 roc_val: 0.7524 parity_val: 0.0766 equality: 0.0452\n",
      "Test: accuracy: 0.6901 roc: 0.7524 acc_sens: 0.8685 parity: 0.0766 equality: 0.0452\n"
     ]
    },
    {
     "name": "stdout",
     "output_type": "stream",
     "text": [
      "=================================\n",
      "Epoch: 0882 cov: 0.0105 cls: 0.5060 adv: 0.5804 acc_val: 0.6948 roc_val: 0.7593 parity_val: 0.1116 equality: 0.0030\n",
      "Test: accuracy: 0.6948 roc: 0.7593 acc_sens: 0.8685 parity: 0.1116 equality: 0.0030\n",
      "=================================\n",
      "Epoch: 0883 cov: 0.0029 cls: 0.4004 adv: 0.5597 acc_val: 0.6995 roc_val: 0.7593 parity_val: 0.0947 equality: 0.0030\n",
      "Test: accuracy: 0.6995 roc: 0.7593 acc_sens: 0.8685 parity: 0.0947 equality: 0.0030\n",
      "=================================\n",
      "Epoch: 0915 cov: 0.0050 cls: 0.4347 adv: 0.5788 acc_val: 0.6901 roc_val: 0.7607 parity_val: 0.1358 equality: 0.1837\n",
      "Test: accuracy: 0.6901 roc: 0.7607 acc_sens: 0.8685 parity: 0.1358 equality: 0.1837\n",
      "=================================\n",
      "Epoch: 0917 cov: 0.0024 cls: 0.3617 adv: 0.5668 acc_val: 0.6995 roc_val: 0.7606 parity_val: 0.1076 equality: 0.0151\n",
      "Test: accuracy: 0.6995 roc: 0.7606 acc_sens: 0.8685 parity: 0.1076 equality: 0.0151\n",
      "=================================\n",
      "Epoch: 0918 cov: 0.0046 cls: 0.4037 adv: 0.5486 acc_val: 0.6948 roc_val: 0.7598 parity_val: 0.0882 equality: 0.0030\n",
      "Test: accuracy: 0.6948 roc: 0.7598 acc_sens: 0.8685 parity: 0.0882 equality: 0.0030\n",
      "=================================\n",
      "Epoch: 0919 cov: 0.0000 cls: 0.3920 adv: 0.5351 acc_val: 0.6948 roc_val: 0.7610 parity_val: 0.1141 equality: 0.0271\n",
      "Test: accuracy: 0.6948 roc: 0.7610 acc_sens: 0.8685 parity: 0.1141 equality: 0.0271\n",
      "=================================\n",
      "Epoch: 0989 cov: 0.0034 cls: 0.4180 adv: 0.5451 acc_val: 0.6901 roc_val: 0.7622 parity_val: 0.1333 equality: 0.1596\n",
      "Test: accuracy: 0.6901 roc: 0.7622 acc_sens: 0.8685 parity: 0.1333 equality: 0.1596\n",
      "=================================\n",
      "Epoch: 1063 cov: 0.0081 cls: 0.3945 adv: 0.5315 acc_val: 0.6901 roc_val: 0.7578 parity_val: 0.0969 equality: 0.0521\n",
      "Test: accuracy: 0.6901 roc: 0.7578 acc_sens: 0.8685 parity: 0.0969 equality: 0.0521\n",
      "=================================\n",
      "Epoch: 1074 cov: 0.0036 cls: 0.3794 adv: 0.5095 acc_val: 0.6901 roc_val: 0.7593 parity_val: 0.0817 equality: 0.0030\n",
      "Test: accuracy: 0.6901 roc: 0.7593 acc_sens: 0.8685 parity: 0.0817 equality: 0.0030\n",
      "=================================\n",
      "Epoch: 1075 cov: 0.0095 cls: 0.4079 adv: 0.5369 acc_val: 0.6948 roc_val: 0.7582 parity_val: 0.0752 equality: 0.0090\n",
      "Test: accuracy: 0.6948 roc: 0.7582 acc_sens: 0.8685 parity: 0.0752 equality: 0.0090\n",
      "=================================\n",
      "Epoch: 1076 cov: 0.0005 cls: 0.3947 adv: 0.5461 acc_val: 0.6995 roc_val: 0.7564 parity_val: 0.0947 equality: 0.0030\n",
      "Test: accuracy: 0.6995 roc: 0.7564 acc_sens: 0.8685 parity: 0.0947 equality: 0.0030\n",
      "=================================\n",
      "Epoch: 1117 cov: 0.0050 cls: 0.3593 adv: 0.5579 acc_val: 0.6901 roc_val: 0.7622 parity_val: 0.1567 equality: 0.1596\n",
      "Test: accuracy: 0.6901 roc: 0.7622 acc_sens: 0.8685 parity: 0.1567 equality: 0.1596\n",
      "=================================\n",
      "Epoch: 1130 cov: 0.0055 cls: 0.5153 adv: 0.5340 acc_val: 0.6948 roc_val: 0.7558 parity_val: 0.0799 equality: 0.0521\n",
      "Test: accuracy: 0.6948 roc: 0.7558 acc_sens: 0.8685 parity: 0.0799 equality: 0.0521\n",
      "=================================\n",
      "Epoch: 1145 cov: 0.0009 cls: 0.3576 adv: 0.5615 acc_val: 0.6901 roc_val: 0.7470 parity_val: 0.0326 equality: 0.0818\n",
      "Test: accuracy: 0.6901 roc: 0.7470 acc_sens: 0.8685 parity: 0.0326 equality: 0.0818\n",
      "=================================\n",
      "Epoch: 1151 cov: 0.0022 cls: 0.4130 adv: 0.5492 acc_val: 0.6995 roc_val: 0.7601 parity_val: 0.1206 equality: 0.0271\n",
      "Test: accuracy: 0.6995 roc: 0.7601 acc_sens: 0.8685 parity: 0.1206 equality: 0.0271\n",
      "=================================\n",
      "Epoch: 1207 cov: 0.0006 cls: 0.4348 adv: 0.5673 acc_val: 0.6901 roc_val: 0.7572 parity_val: 0.0532 equality: 0.0452\n",
      "Test: accuracy: 0.6901 roc: 0.7572 acc_sens: 0.8685 parity: 0.0532 equality: 0.0452\n",
      "=================================\n",
      "Epoch: 1211 cov: 0.0057 cls: 0.4037 adv: 0.5650 acc_val: 0.6901 roc_val: 0.7564 parity_val: 0.0994 equality: 0.0762\n",
      "Test: accuracy: 0.6901 roc: 0.7564 acc_sens: 0.8685 parity: 0.0994 equality: 0.0762\n",
      "=================================\n",
      "Epoch: 1228 cov: 0.0006 cls: 0.4172 adv: 0.5696 acc_val: 0.6948 roc_val: 0.7519 parity_val: 0.1192 equality: 0.0753\n",
      "Test: accuracy: 0.6948 roc: 0.7519 acc_sens: 0.8685 parity: 0.1192 equality: 0.0753\n",
      "=================================\n",
      "Epoch: 1345 cov: 0.0092 cls: 0.3420 adv: 0.5691 acc_val: 0.6948 roc_val: 0.7540 parity_val: 0.1347 equality: 0.1114\n",
      "Test: accuracy: 0.6948 roc: 0.7540 acc_sens: 0.8685 parity: 0.1347 equality: 0.1114\n",
      "=================================\n",
      "Epoch: 1346 cov: 0.0015 cls: 0.3833 adv: 0.5346 acc_val: 0.6948 roc_val: 0.7549 parity_val: 0.1347 equality: 0.1114\n",
      "Test: accuracy: 0.6948 roc: 0.7549 acc_sens: 0.8685 parity: 0.1347 equality: 0.1114\n",
      "=================================\n",
      "Epoch: 1349 cov: 0.0031 cls: 0.4685 adv: 0.5480 acc_val: 0.6901 roc_val: 0.7548 parity_val: 0.1412 equality: 0.1235\n",
      "Test: accuracy: 0.6901 roc: 0.7548 acc_sens: 0.8685 parity: 0.1412 equality: 0.1235\n",
      "=================================\n",
      "Epoch: 1350 cov: 0.0020 cls: 0.3692 adv: 0.5174 acc_val: 0.6901 roc_val: 0.7548 parity_val: 0.1412 equality: 0.1235\n",
      "Test: accuracy: 0.6901 roc: 0.7548 acc_sens: 0.8685 parity: 0.1412 equality: 0.1235\n",
      "=================================\n",
      "Epoch: 1364 cov: 0.0029 cls: 0.4093 adv: 0.5526 acc_val: 0.6901 roc_val: 0.7573 parity_val: 0.1437 equality: 0.1476\n",
      "Test: accuracy: 0.6901 roc: 0.7573 acc_sens: 0.8685 parity: 0.1437 equality: 0.1476\n",
      "=================================\n",
      "Epoch: 1368 cov: 0.0086 cls: 0.3614 adv: 0.5693 acc_val: 0.6901 roc_val: 0.7570 parity_val: 0.1257 equality: 0.0873\n",
      "Test: accuracy: 0.6901 roc: 0.7570 acc_sens: 0.8685 parity: 0.1257 equality: 0.0873\n",
      "=================================\n",
      "Epoch: 1370 cov: 0.0027 cls: 0.4408 adv: 0.5602 acc_val: 0.6901 roc_val: 0.7555 parity_val: 0.1152 equality: 0.0516\n",
      "Test: accuracy: 0.6901 roc: 0.7555 acc_sens: 0.8685 parity: 0.1152 equality: 0.0516\n",
      "=================================\n",
      "Epoch: 1372 cov: 0.0087 cls: 0.3468 adv: 0.5085 acc_val: 0.6901 roc_val: 0.7563 parity_val: 0.0943 equality: 0.0280\n",
      "Test: accuracy: 0.6901 roc: 0.7563 acc_sens: 0.8685 parity: 0.0943 equality: 0.0280\n",
      "=================================\n",
      "Epoch: 1383 cov: 0.0002 cls: 0.4224 adv: 0.5525 acc_val: 0.6901 roc_val: 0.7571 parity_val: 0.1178 equality: 0.0757\n",
      "Test: accuracy: 0.6901 roc: 0.7571 acc_sens: 0.8685 parity: 0.1178 equality: 0.0757\n",
      "=================================\n",
      "Epoch: 1390 cov: 0.0061 cls: 0.3865 adv: 0.5556 acc_val: 0.6901 roc_val: 0.7574 parity_val: 0.1178 equality: 0.0757\n",
      "Test: accuracy: 0.6901 roc: 0.7574 acc_sens: 0.8685 parity: 0.1178 equality: 0.0757\n",
      "=================================\n",
      "Epoch: 1409 cov: 0.0026 cls: 0.3479 adv: 0.5679 acc_val: 0.6901 roc_val: 0.7568 parity_val: 0.1282 equality: 0.0637\n",
      "Test: accuracy: 0.6901 roc: 0.7568 acc_sens: 0.8685 parity: 0.1282 equality: 0.0637\n",
      "=================================\n",
      "Epoch: 1457 cov: 0.0031 cls: 0.3606 adv: 0.5442 acc_val: 0.6948 roc_val: 0.7498 parity_val: 0.0799 equality: 0.0521\n",
      "Test: accuracy: 0.6948 roc: 0.7498 acc_sens: 0.8685 parity: 0.0799 equality: 0.0521\n",
      "=================================\n",
      "Epoch: 1458 cov: 0.0024 cls: 0.4247 adv: 0.5530 acc_val: 0.6901 roc_val: 0.7490 parity_val: 0.1124 equality: 0.0882\n",
      "Test: accuracy: 0.6901 roc: 0.7490 acc_sens: 0.8685 parity: 0.1124 equality: 0.0882\n",
      "=================================\n",
      "Epoch: 1459 cov: 0.0035 cls: 0.3645 adv: 0.5207 acc_val: 0.6948 roc_val: 0.7489 parity_val: 0.1189 equality: 0.0882\n",
      "Test: accuracy: 0.6948 roc: 0.7489 acc_sens: 0.8685 parity: 0.1189 equality: 0.0882\n",
      "=================================\n",
      "Epoch: 1460 cov: 0.0001 cls: 0.4282 adv: 0.5873 acc_val: 0.7042 roc_val: 0.7463 parity_val: 0.0929 equality: 0.0521\n",
      "Test: accuracy: 0.7042 roc: 0.7463 acc_sens: 0.8685 parity: 0.0929 equality: 0.0521\n",
      "=================================\n",
      "Epoch: 1498 cov: 0.0030 cls: 0.5650 adv: 0.5646 acc_val: 0.6995 roc_val: 0.7486 parity_val: 0.0734 equality: 0.0400\n",
      "Test: accuracy: 0.6995 roc: 0.7486 acc_sens: 0.8685 parity: 0.0734 equality: 0.0400\n",
      "=================================\n",
      "Epoch: 1508 cov: 0.0021 cls: 0.4353 adv: 0.5409 acc_val: 0.6901 roc_val: 0.7547 parity_val: 0.1517 equality: 0.1114\n",
      "Test: accuracy: 0.6901 roc: 0.7547 acc_sens: 0.8685 parity: 0.1517 equality: 0.1114\n",
      "=================================\n",
      "Epoch: 1552 cov: 0.0067 cls: 0.3513 adv: 0.5368 acc_val: 0.6995 roc_val: 0.7527 parity_val: 0.0813 equality: 0.0516\n",
      "Test: accuracy: 0.6995 roc: 0.7527 acc_sens: 0.8685 parity: 0.0813 equality: 0.0516\n",
      "=================================\n",
      "Epoch: 1554 cov: 0.0023 cls: 0.3714 adv: 0.5408 acc_val: 0.6948 roc_val: 0.7529 parity_val: 0.0983 equality: 0.0516\n",
      "Test: accuracy: 0.6948 roc: 0.7529 acc_sens: 0.8685 parity: 0.0983 equality: 0.0516\n",
      "=================================\n",
      "Epoch: 1555 cov: 0.0061 cls: 0.3899 adv: 0.5977 acc_val: 0.6948 roc_val: 0.7525 parity_val: 0.0983 equality: 0.0516\n",
      "Test: accuracy: 0.6948 roc: 0.7525 acc_sens: 0.8685 parity: 0.0983 equality: 0.0516\n"
     ]
    },
    {
     "name": "stdout",
     "output_type": "stream",
     "text": [
      "=================================\n",
      "Epoch: 1569 cov: 0.0007 cls: 0.3253 adv: 0.5542 acc_val: 0.6901 roc_val: 0.7495 parity_val: 0.0579 equality: 0.0159\n",
      "Test: accuracy: 0.6901 roc: 0.7495 acc_sens: 0.8685 parity: 0.0579 equality: 0.0159\n",
      "=================================\n",
      "Epoch: 1570 cov: 0.0062 cls: 0.3449 adv: 0.5040 acc_val: 0.6995 roc_val: 0.7515 parity_val: 0.0604 equality: 0.0280\n",
      "Test: accuracy: 0.6995 roc: 0.7515 acc_sens: 0.8685 parity: 0.0604 equality: 0.0280\n",
      "=================================\n",
      "Epoch: 1571 cov: 0.0047 cls: 0.4695 adv: 0.5730 acc_val: 0.6948 roc_val: 0.7515 parity_val: 0.0669 equality: 0.0400\n",
      "Test: accuracy: 0.6948 roc: 0.7515 acc_sens: 0.8685 parity: 0.0669 equality: 0.0400\n",
      "=================================\n",
      "Epoch: 1572 cov: 0.0043 cls: 0.5913 adv: 0.5407 acc_val: 0.6995 roc_val: 0.7489 parity_val: 0.0709 equality: 0.0159\n",
      "Test: accuracy: 0.6995 roc: 0.7489 acc_sens: 0.8685 parity: 0.0709 equality: 0.0159\n",
      "=================================\n",
      "Epoch: 1598 cov: 0.0074 cls: 0.3772 adv: 0.5874 acc_val: 0.6995 roc_val: 0.7460 parity_val: 0.0474 equality: 0.0159\n",
      "Test: accuracy: 0.6995 roc: 0.7460 acc_sens: 0.8685 parity: 0.0474 equality: 0.0159\n",
      "=================================\n",
      "Epoch: 1599 cov: 0.0010 cls: 0.3589 adv: 0.5625 acc_val: 0.7042 roc_val: 0.7457 parity_val: 0.0929 equality: 0.0521\n",
      "Test: accuracy: 0.7042 roc: 0.7457 acc_sens: 0.8685 parity: 0.0929 equality: 0.0521\n",
      "=================================\n",
      "Epoch: 1601 cov: 0.0007 cls: 0.3577 adv: 0.5632 acc_val: 0.6995 roc_val: 0.7485 parity_val: 0.0601 equality: 0.0886\n",
      "Test: accuracy: 0.6995 roc: 0.7485 acc_sens: 0.8685 parity: 0.0601 equality: 0.0886\n",
      "=================================\n",
      "Epoch: 1603 cov: 0.0043 cls: 0.4604 adv: 0.5821 acc_val: 0.6901 roc_val: 0.7496 parity_val: 0.1149 equality: 0.0645\n",
      "Test: accuracy: 0.6901 roc: 0.7496 acc_sens: 0.8685 parity: 0.1149 equality: 0.0645\n",
      "=================================\n",
      "Epoch: 1604 cov: 0.0015 cls: 0.3486 adv: 0.5719 acc_val: 0.6901 roc_val: 0.7499 parity_val: 0.1124 equality: 0.0882\n",
      "Test: accuracy: 0.6901 roc: 0.7499 acc_sens: 0.8685 parity: 0.1124 equality: 0.0882\n",
      "=================================\n",
      "Epoch: 1605 cov: 0.0020 cls: 0.3238 adv: 0.5942 acc_val: 0.6995 roc_val: 0.7498 parity_val: 0.0734 equality: 0.0400\n",
      "Test: accuracy: 0.6995 roc: 0.7498 acc_sens: 0.8685 parity: 0.0734 equality: 0.0400\n",
      "=================================\n",
      "Epoch: 1606 cov: 0.0045 cls: 0.3454 adv: 0.5657 acc_val: 0.6948 roc_val: 0.7494 parity_val: 0.0774 equality: 0.0280\n",
      "Test: accuracy: 0.6948 roc: 0.7494 acc_sens: 0.8685 parity: 0.0774 equality: 0.0280\n",
      "=================================\n",
      "Epoch: 1634 cov: 0.0022 cls: 0.3700 adv: 0.5480 acc_val: 0.6948 roc_val: 0.7553 parity_val: 0.0774 equality: 0.0280\n",
      "Test: accuracy: 0.6948 roc: 0.7553 acc_sens: 0.8685 parity: 0.0774 equality: 0.0280\n",
      "=================================\n",
      "Epoch: 1665 cov: 0.0064 cls: 0.3640 adv: 0.5574 acc_val: 0.6901 roc_val: 0.7499 parity_val: 0.0709 equality: 0.0280\n",
      "Test: accuracy: 0.6901 roc: 0.7499 acc_sens: 0.8685 parity: 0.0709 equality: 0.0280\n",
      "=================================\n",
      "Epoch: 1666 cov: 0.0078 cls: 0.3641 adv: 0.5303 acc_val: 0.6901 roc_val: 0.7488 parity_val: 0.0579 equality: 0.0159\n",
      "Test: accuracy: 0.6901 roc: 0.7488 acc_sens: 0.8685 parity: 0.0579 equality: 0.0159\n",
      "=================================\n",
      "Epoch: 1875 cov: 0.0024 cls: 0.3402 adv: 0.5613 acc_val: 0.6995 roc_val: 0.7478 parity_val: 0.0839 equality: 0.0280\n",
      "Test: accuracy: 0.6995 roc: 0.7478 acc_sens: 0.8685 parity: 0.0839 equality: 0.0280\n",
      "=================================\n",
      "Epoch: 1876 cov: 0.0007 cls: 0.3829 adv: 0.5370 acc_val: 0.6948 roc_val: 0.7492 parity_val: 0.1033 equality: 0.0521\n",
      "Test: accuracy: 0.6948 roc: 0.7492 acc_sens: 0.8685 parity: 0.1033 equality: 0.0521\n",
      "=================================\n",
      "Epoch: 1877 cov: 0.0073 cls: 0.3684 adv: 0.5292 acc_val: 0.6995 roc_val: 0.7500 parity_val: 0.0864 equality: 0.0521\n",
      "Test: accuracy: 0.6995 roc: 0.7500 acc_sens: 0.8685 parity: 0.0864 equality: 0.0521\n",
      "=================================\n",
      "Epoch: 1878 cov: 0.0005 cls: 0.3473 adv: 0.5581 acc_val: 0.6995 roc_val: 0.7490 parity_val: 0.0864 equality: 0.0521\n",
      "Test: accuracy: 0.6995 roc: 0.7490 acc_sens: 0.8685 parity: 0.0864 equality: 0.0521\n",
      "=================================\n",
      "Epoch: 1879 cov: 0.0046 cls: 0.3785 adv: 0.5562 acc_val: 0.6948 roc_val: 0.7486 parity_val: 0.0904 equality: 0.0400\n",
      "Test: accuracy: 0.6948 roc: 0.7486 acc_sens: 0.8685 parity: 0.0904 equality: 0.0400\n",
      "=================================\n",
      "Epoch: 1892 cov: 0.0021 cls: 0.4057 adv: 0.5894 acc_val: 0.6948 roc_val: 0.7496 parity_val: 0.1217 equality: 0.0994\n",
      "Test: accuracy: 0.6948 roc: 0.7496 acc_sens: 0.8685 parity: 0.1217 equality: 0.0994\n",
      "=================================\n",
      "Epoch: 1903 cov: 0.0041 cls: 0.3309 adv: 0.5520 acc_val: 0.6901 roc_val: 0.7538 parity_val: 0.1152 equality: 0.0994\n",
      "Test: accuracy: 0.6901 roc: 0.7538 acc_sens: 0.8685 parity: 0.1152 equality: 0.0994\n",
      "=================================\n",
      "Epoch: 1983 cov: 0.0018 cls: 0.3943 adv: 0.5776 acc_val: 0.6901 roc_val: 0.7569 parity_val: 0.0763 equality: 0.0633\n",
      "Test: accuracy: 0.6901 roc: 0.7569 acc_sens: 0.8685 parity: 0.0763 equality: 0.0633\n",
      "=================================\n",
      "Epoch: 1984 cov: 0.0035 cls: 0.3607 adv: 0.5622 acc_val: 0.6901 roc_val: 0.7553 parity_val: 0.0817 equality: 0.0030\n",
      "Test: accuracy: 0.6901 roc: 0.7553 acc_sens: 0.8685 parity: 0.0817 equality: 0.0030\n",
      "Optimization Finished!\n",
      "Total time elapsed: 54.6785s\n",
      "============performace on test set=============\n",
      "Test: accuracy: 0.6948 roc: 0.7455 acc_sens: 0.8685 parity: 0.0355 equality: 0.0194\n",
      "Test: accuracy: 0.6954 roc: 0.7536 parity: 0.0925 equality: 0.0580\n"
     ]
    }
   ],
   "source": [
    "from sklearn.metrics import accuracy_score,roc_auc_score,recall_score,f1_score\n",
    "\n",
    "\n",
    "# Train model\n",
    "t_total = time.time()\n",
    "best_result = {}\n",
    "best_fair = 100\n",
    "\n",
    "acc_test_list = []\n",
    "roc_test_list = []\n",
    "parity_list = []\n",
    "equality_list = []\n",
    "\n",
    "for epoch in range(args.epochs):\n",
    "    t = time.time()\n",
    "    model.train()\n",
    "    model.optimize(G,features,labels,idx_train,sens,idx_sens_train)\n",
    "    cov = model.cov\n",
    "    cls_loss = model.cls_loss\n",
    "    adv_loss = model.adv_loss\n",
    "    model.eval()\n",
    "    output,s,z = model(G, features)\n",
    "    acc_val = accuracy(output[idx_val], labels[idx_val])\n",
    "    roc_val = roc_auc_score(labels[idx_val].cpu().numpy(),output[idx_val].detach().cpu().numpy())\n",
    "\n",
    "\n",
    "    acc_sens = accuracy(s[idx_test], sens[idx_test])\n",
    "    \n",
    "    parity_val, equality_val = fair_metric(output,idx_val)\n",
    "\n",
    "    acc_test = accuracy(output[idx_test], labels[idx_test])\n",
    "    roc_test = roc_auc_score(labels[idx_test].cpu().numpy(),output[idx_test].detach().cpu().numpy())\n",
    "    parity,equality = fair_metric(output,idx_test)\n",
    "    if acc_val > args.acc and roc_val > args.roc:\n",
    "        acc_test_list.append(acc_test.item())\n",
    "        roc_test_list.append(roc_test)\n",
    "        parity_list.append(parity)\n",
    "        equality_list.append(equality)    \n",
    "        if best_fair > parity_val + equality_val :\n",
    "            best_fair = parity_val + equality_val\n",
    "\n",
    "            best_result['acc'] = acc_test.item()\n",
    "            best_result['roc'] = roc_test\n",
    "            best_result['parity'] = parity\n",
    "            best_result['equality'] = equality\n",
    "\n",
    "        print(\"=================================\")\n",
    "\n",
    "        print('Epoch: {:04d}'.format(epoch+1),\n",
    "            'cov: {:.4f}'.format(cov.item()),\n",
    "            'cls: {:.4f}'.format(cls_loss.item()),\n",
    "            'adv: {:.4f}'.format(adv_loss.item()),\n",
    "            'acc_val: {:.4f}'.format(acc_val.item()),\n",
    "            \"roc_val: {:.4f}\".format(roc_val),\n",
    "            \"parity_val: {:.4f}\".format(parity_val),\n",
    "            \"equality: {:.4f}\".format(equality_val))\n",
    "        print(\"Test:\",\n",
    "                \"accuracy: {:.4f}\".format(acc_test.item()),\n",
    "                \"roc: {:.4f}\".format(roc_test),\n",
    "                \"acc_sens: {:.4f}\".format(acc_sens),\n",
    "                \"parity: {:.4f}\".format(parity),\n",
    "                \"equality: {:.4f}\".format(equality))\n",
    "\n",
    "\n",
    "\n",
    "print(\"Optimization Finished!\")\n",
    "print(\"Total time elapsed: {:.4f}s\".format(time.time() - t_total))\n",
    "\n",
    "print('============performace on test set=============')\n",
    "if len(best_result) > 0:\n",
    "    print(\"Test:\",\n",
    "            \"accuracy: {:.4f}\".format(best_result['acc']),\n",
    "            \"roc: {:.4f}\".format(best_result['roc']),\n",
    "            \"acc_sens: {:.4f}\".format(acc_sens),\n",
    "            \"parity: {:.4f}\".format(best_result['parity']),\n",
    "            \"equality: {:.4f}\".format(best_result['equality']))\n",
    "    print(\"Test:\",\n",
    "            \"accuracy: {:.4f}\".format(np.mean(acc_test_list)),\n",
    "            \"roc: {:.4f}\".format(np.mean(roc_test_list)),\n",
    "            \"parity: {:.4f}\".format(np.mean(parity_list)),\n",
    "            \"equality: {:.4f}\".format(np.mean(equality_list)))\n",
    "else:\n",
    "    print(\"Please set smaller acc/roc thresholds\")\n"
   ]
  },
  {
   "cell_type": "code",
   "execution_count": 4,
   "id": "504ed748",
   "metadata": {},
   "outputs": [
    {
     "data": {
      "text/plain": [
       "(tensor(0.6714, device='cuda:0', dtype=torch.float64),\n",
       " 0.7545486663133724,\n",
       " 0.12029495927801015,\n",
       " 0.07616179001721168)"
      ]
     },
     "execution_count": 4,
     "metadata": {},
     "output_type": "execute_result"
    }
   ],
   "source": [
    "acc_test,roc_test,parity,equality"
   ]
  },
  {
   "cell_type": "code",
   "execution_count": 5,
   "id": "e1b28ded",
   "metadata": {},
   "outputs": [
    {
     "data": {
      "text/plain": [
       "(403, 403)"
      ]
     },
     "execution_count": 5,
     "metadata": {},
     "output_type": "execute_result"
    }
   ],
   "source": [
    "adj.shape"
   ]
  },
  {
   "cell_type": "code",
   "execution_count": 6,
   "id": "94c47667",
   "metadata": {},
   "outputs": [
    {
     "data": {
      "text/plain": [
       "torch.Size([403, 64])"
      ]
     },
     "execution_count": 6,
     "metadata": {},
     "output_type": "execute_result"
    }
   ],
   "source": [
    "z.shape"
   ]
  },
  {
   "cell_type": "code",
   "execution_count": 7,
   "id": "cba66507",
   "metadata": {},
   "outputs": [
    {
     "data": {
      "text/plain": [
       "torch.Size([100])"
      ]
     },
     "execution_count": 7,
     "metadata": {},
     "output_type": "execute_result"
    }
   ],
   "source": [
    "idx_train.shape"
   ]
  },
  {
   "cell_type": "code",
   "execution_count": 8,
   "id": "50c2e09c",
   "metadata": {},
   "outputs": [
    {
     "data": {
      "text/plain": [
       "(array([], dtype=int64), array([], dtype=int64), (213,))"
      ]
     },
     "execution_count": 8,
     "metadata": {},
     "output_type": "execute_result"
    }
   ],
   "source": [
    "np.intersect1d(idx_train.cpu(),idx_test.cpu()),np.intersect1d(idx_train.cpu(),idx_val.cpu()),np.intersect1d(idx_val.cpu(),idx_test.cpu()).shape"
   ]
  },
  {
   "cell_type": "code",
   "execution_count": 9,
   "id": "d1132de1",
   "metadata": {},
   "outputs": [
    {
     "data": {
      "text/plain": [
       "torch.Size([213])"
      ]
     },
     "execution_count": 9,
     "metadata": {},
     "output_type": "execute_result"
    }
   ],
   "source": [
    "idx_test.shape"
   ]
  },
  {
   "cell_type": "code",
   "execution_count": 10,
   "id": "68060ddb",
   "metadata": {},
   "outputs": [
    {
     "data": {
      "text/plain": [
       "torch.Size([213])"
      ]
     },
     "execution_count": 10,
     "metadata": {},
     "output_type": "execute_result"
    }
   ],
   "source": [
    "idx_val.shape"
   ]
  },
  {
   "cell_type": "code",
   "execution_count": 11,
   "id": "bb642be3",
   "metadata": {},
   "outputs": [
    {
     "data": {
      "text/plain": [
       "torch.Size([403, 95])"
      ]
     },
     "execution_count": 11,
     "metadata": {},
     "output_type": "execute_result"
    }
   ],
   "source": [
    "features.shape"
   ]
  },
  {
   "cell_type": "code",
   "execution_count": 12,
   "id": "cfb4b829",
   "metadata": {},
   "outputs": [
    {
     "data": {
      "text/plain": [
       "torch.Size([403, 1])"
      ]
     },
     "execution_count": 12,
     "metadata": {},
     "output_type": "execute_result"
    }
   ],
   "source": [
    "s.shape"
   ]
  },
  {
   "cell_type": "code",
   "execution_count": 13,
   "id": "f66cc682",
   "metadata": {},
   "outputs": [
    {
     "data": {
      "text/plain": [
       "torch.Size([50])"
      ]
     },
     "execution_count": 13,
     "metadata": {},
     "output_type": "execute_result"
    }
   ],
   "source": [
    "idx_sens_train.shape"
   ]
  },
  {
   "cell_type": "code",
   "execution_count": 14,
   "id": "ce5f617b",
   "metadata": {},
   "outputs": [
    {
     "data": {
      "text/plain": [
       "torch.Size([403])"
      ]
     },
     "execution_count": 14,
     "metadata": {},
     "output_type": "execute_result"
    }
   ],
   "source": [
    "labels.shape"
   ]
  },
  {
   "cell_type": "code",
   "execution_count": 15,
   "id": "adf08f66",
   "metadata": {},
   "outputs": [
    {
     "data": {
      "text/plain": [
       "21645.0"
      ]
     },
     "execution_count": 15,
     "metadata": {},
     "output_type": "execute_result"
    }
   ],
   "source": [
    "adj.sum()"
   ]
  },
  {
   "cell_type": "code",
   "execution_count": 16,
   "id": "26d0064b",
   "metadata": {},
   "outputs": [
    {
     "data": {
      "text/plain": [
       "<403x403 sparse matrix of type '<class 'numpy.bool_'>'\n",
       "\twith 0 stored elements in Compressed Sparse Row format>"
      ]
     },
     "execution_count": 16,
     "metadata": {},
     "output_type": "execute_result"
    }
   ],
   "source": [
    "adj!=adj.T"
   ]
  },
  {
   "cell_type": "code",
   "execution_count": 17,
   "id": "5612d1ce",
   "metadata": {},
   "outputs": [
    {
     "data": {
      "text/plain": [
       "tensor(401, device='cuda:0')"
      ]
     },
     "execution_count": 17,
     "metadata": {},
     "output_type": "execute_result"
    }
   ],
   "source": [
    "max(idx_train)"
   ]
  },
  {
   "cell_type": "code",
   "execution_count": 18,
   "id": "8b1f3ea1",
   "metadata": {},
   "outputs": [
    {
     "data": {
      "text/plain": [
       "403"
      ]
     },
     "execution_count": 18,
     "metadata": {},
     "output_type": "execute_result"
    }
   ],
   "source": [
    "G.number_of_nodes()"
   ]
  },
  {
   "cell_type": "code",
   "execution_count": 19,
   "id": "2332cfb8",
   "metadata": {},
   "outputs": [],
   "source": [
    "# def compute_loss(pos_score, neg_score):\n",
    "#     # Margin loss\n",
    "#     n_edges = pos_score.shape[0]\n",
    "#     return (1 - pos_score.unsqueeze(1) + neg_score.view(n_edges, -1)).clamp(min=0).mean()"
   ]
  },
  {
   "cell_type": "code",
   "execution_count": 20,
   "id": "59211928",
   "metadata": {},
   "outputs": [],
   "source": [
    "# class MLPPredictor(nn.Module):\n",
    "#     def __init__(self, h_feats):\n",
    "#         super().__init__()\n",
    "#         self.W1 = nn.Linear(h_feats * 2, h_feats)\n",
    "#         self.W2 = nn.Linear(h_feats, 1)\n",
    "\n",
    "#     def apply_edges(self, edges):\n",
    "       \n",
    "#         h = torch.cat([edges.src['h'], edges.dst['h']], 1)\n",
    "#         return {'score': self.W2(F.relu(self.W1(h))).squeeze(1)}\n",
    "\n",
    "#     def forward(self, g, h):\n",
    "#         with g.local_scope():\n",
    "#             g.ndata['h'] = h\n",
    "#             g.apply_edges(self.apply_edges)\n",
    "#             return g.edata['score']"
   ]
  },
  {
   "cell_type": "code",
   "execution_count": 80,
   "id": "496131e0",
   "metadata": {},
   "outputs": [],
   "source": [
    "def compute_loss(pos_score, neg_score):\n",
    "    scores = torch.cat([pos_score, neg_score])\n",
    "    labels = torch.cat([torch.ones(pos_score.shape[0]), torch.zeros(neg_score.shape[0])]).cuda()\n",
    "    return F.binary_cross_entropy_with_logits(scores, labels)\n",
    "\n",
    "def compute_auc(pos_score, neg_score):\n",
    "    scores = torch.cat([pos_score, neg_score]).cpu().numpy()\n",
    "    labels = torch.cat(\n",
    "        [torch.ones(pos_score.shape[0]), torch.zeros(neg_score.shape[0])]).cpu().numpy()\n",
    "    return roc_auc_score(labels, scores)"
   ]
  },
  {
   "cell_type": "code",
   "execution_count": 81,
   "id": "f24760d2",
   "metadata": {},
   "outputs": [],
   "source": [
    "class MLPPredictor(nn.Module):\n",
    "    def __init__(self, h_feats):\n",
    "        super(MLPPredictor, self).__init__()\n",
    "        self.W1 = nn.Linear(h_feats * 2, h_feats)\n",
    "        self.W2 = nn.Linear(h_feats, 1)\n",
    "\n",
    "    def forward(self, edges1,edges2): # N,h (N,h)\n",
    "        h = torch.cat([edges1, edges2], 1)\n",
    "        out=self.W2(F.relu(self.W1(h))).squeeze(1)\n",
    "        return out\n",
    "        "
   ]
  },
  {
   "cell_type": "code",
   "execution_count": 82,
   "id": "5277add6",
   "metadata": {},
   "outputs": [],
   "source": [
    "g=G"
   ]
  },
  {
   "cell_type": "code",
   "execution_count": 164,
   "id": "bfc2faa1",
   "metadata": {},
   "outputs": [],
   "source": [
    "noisy_estimate_factor=1.0\n",
    "test_split=0.1"
   ]
  },
  {
   "cell_type": "code",
   "execution_count": 165,
   "id": "ef5ac208",
   "metadata": {},
   "outputs": [],
   "source": [
    "u, v = g.cpu().edges()\n",
    "\n",
    "eids = np.arange(g.number_of_edges())\n",
    "eids = np.random.permutation(eids)\n",
    "nedges=int(len(eids)*noisy_estimate_factor)\n",
    "test_size = int(nedges * test_split)\n",
    "train_size = nedges - test_size\n",
    "test_pos_u, test_pos_v = u[eids[:test_size]], v[eids[:test_size]]\n",
    "train_pos_u, train_pos_v = u[eids[test_size:nedges]], v[eids[test_size:nedges]]\n",
    "\n",
    "# Find all negative edges and split them for training and testing\n",
    "adj1 = sp.coo_matrix((np.ones(len(u)), (u.numpy(), v.numpy())))\n",
    "adj1_neg = 1 - adj1.todense() - np.eye(g.number_of_nodes())\n",
    "neg_u, neg_v = np.where(adj1_neg != 0)\n",
    "\n",
    "neg_eids = np.random.choice(len(neg_u), nedges// 2)\n",
    "test_neg_u, test_neg_v = neg_u[neg_eids[:test_size]], neg_v[neg_eids[:test_size]]\n",
    "train_neg_u, train_neg_v = neg_u[neg_eids[test_size:nedges ]], neg_v[neg_eids[test_size:nedges ]]\n"
   ]
  },
  {
   "cell_type": "code",
   "execution_count": 166,
   "id": "ba52127c",
   "metadata": {},
   "outputs": [
    {
     "data": {
      "text/plain": [
       "21645"
      ]
     },
     "execution_count": 166,
     "metadata": {},
     "output_type": "execute_result"
    }
   ],
   "source": [
    "nedges"
   ]
  },
  {
   "cell_type": "code",
   "execution_count": 167,
   "id": "875d588f",
   "metadata": {},
   "outputs": [
    {
     "data": {
      "text/plain": [
       "(19481, 2164)"
      ]
     },
     "execution_count": 167,
     "metadata": {},
     "output_type": "execute_result"
    }
   ],
   "source": [
    "train_size, test_size"
   ]
  },
  {
   "cell_type": "code",
   "execution_count": 168,
   "id": "3a0b2c42",
   "metadata": {},
   "outputs": [
    {
     "data": {
      "text/plain": [
       "tensor(16)"
      ]
     },
     "execution_count": 168,
     "metadata": {},
     "output_type": "execute_result"
    }
   ],
   "source": [
    "train_pos_u[0]"
   ]
  },
  {
   "cell_type": "code",
   "execution_count": 169,
   "id": "f6b243d6",
   "metadata": {},
   "outputs": [
    {
     "data": {
      "text/plain": [
       "tensor(369)"
      ]
     },
     "execution_count": 169,
     "metadata": {},
     "output_type": "execute_result"
    }
   ],
   "source": [
    "train_pos_v[0]"
   ]
  },
  {
   "cell_type": "code",
   "execution_count": 170,
   "id": "a1aeddec",
   "metadata": {},
   "outputs": [
    {
     "data": {
      "text/plain": [
       "(torch.Size([2, 64]), torch.Size([19481, 64]))"
      ]
     },
     "execution_count": 170,
     "metadata": {},
     "output_type": "execute_result"
    }
   ],
   "source": [
    "z[[1,3]].shape,z[train_pos_u].shape"
   ]
  },
  {
   "cell_type": "code",
   "execution_count": 171,
   "id": "c0dfc75c",
   "metadata": {},
   "outputs": [],
   "source": [
    "train_pos_edges1=z[train_pos_u].cuda().detach()\n",
    "train_pos_edges2=z[train_pos_v].cuda().detach()\n",
    "test_pos_edges1=z[test_pos_u].cuda().detach()\n",
    "test_pos_edges2=z[test_pos_v].cuda().detach()\n",
    "train_neg_edges1=z[train_neg_u].cuda().detach()\n",
    "train_neg_edges2=z[train_neg_v].cuda().detach()\n",
    "test_neg_edges1=z[test_neg_u].cuda().detach()\n",
    "test_neg_edges2=z[test_neg_v].cuda().detach()"
   ]
  },
  {
   "cell_type": "code",
   "execution_count": 172,
   "id": "9e66b679",
   "metadata": {},
   "outputs": [
    {
     "data": {
      "text/plain": [
       "(torch.Size([19481, 64]),\n",
       " torch.Size([19481, 64]),\n",
       " torch.Size([2164, 64]),\n",
       " torch.Size([2164, 64]),\n",
       " torch.Size([8658, 64]),\n",
       " torch.Size([8658, 64]),\n",
       " torch.Size([2164, 64]),\n",
       " torch.Size([2164, 64]))"
      ]
     },
     "execution_count": 172,
     "metadata": {},
     "output_type": "execute_result"
    }
   ],
   "source": [
    "train_pos_edges1.shape,train_pos_edges2.shape, test_pos_edges1.shape,test_pos_edges2.shape, train_neg_edges1.shape,train_neg_edges2.shape, test_neg_edges1.shape,test_neg_edges2.shape\n"
   ]
  },
  {
   "cell_type": "code",
   "execution_count": 173,
   "id": "70957fd0",
   "metadata": {},
   "outputs": [
    {
     "data": {
      "text/plain": [
       "MLPPredictor(\n",
       "  (W1): Linear(in_features=128, out_features=64, bias=True)\n",
       "  (W2): Linear(in_features=64, out_features=1, bias=True)\n",
       ")"
      ]
     },
     "execution_count": 173,
     "metadata": {},
     "output_type": "execute_result"
    }
   ],
   "source": [
    "pred1 = MLPPredictor(64)\n",
    "pred1.cuda()\n",
    "pred1"
   ]
  },
  {
   "cell_type": "code",
   "execution_count": 174,
   "id": "0f06beb5",
   "metadata": {},
   "outputs": [
    {
     "name": "stdout",
     "output_type": "stream",
     "text": [
      "W1.weight torch.Size([64, 128])\n",
      "W1.bias torch.Size([64])\n",
      "W2.weight torch.Size([1, 64])\n",
      "W2.bias torch.Size([1])\n"
     ]
    }
   ],
   "source": [
    "for name, param in pred1.named_parameters():\n",
    "    if param.requires_grad:\n",
    "        print(name, param.data.shape)"
   ]
  },
  {
   "cell_type": "code",
   "execution_count": 175,
   "id": "e105be19",
   "metadata": {},
   "outputs": [
    {
     "name": "stdout",
     "output_type": "stream",
     "text": [
      "In epoch 0, loss: 0.6694367527961731\n",
      "AUC 0.5986965117312022\n",
      "AUC 0.6638258675827949\n",
      "AUC 0.6808311566176144\n",
      "AUC 0.6892614100334493\n",
      "AUC 0.6976570694715407\n",
      "In epoch 5, loss: 0.5751366019248962\n",
      "AUC 0.7069094637164695\n",
      "AUC 0.717354282478193\n",
      "AUC 0.7282599271903539\n",
      "AUC 0.7386156984908484\n",
      "AUC 0.7492939198308056\n",
      "In epoch 10, loss: 0.5411795377731323\n",
      "AUC 0.7605100561703698\n",
      "AUC 0.7737708674290439\n",
      "AUC 0.7878207203405756\n",
      "AUC 0.8027021099763906\n",
      "AUC 0.8154491366026493\n",
      "In epoch 15, loss: 0.5073724985122681\n",
      "AUC 0.8246735567050817\n",
      "AUC 0.8328836472131775\n",
      "AUC 0.8399525635418768\n",
      "AUC 0.8478333706321899\n",
      "AUC 0.8565260684841176\n",
      "In epoch 20, loss: 0.47538521885871887\n",
      "AUC 0.8646208457330676\n",
      "AUC 0.8722496719978406\n",
      "AUC 0.8783025503876234\n",
      "AUC 0.8832676403661324\n",
      "AUC 0.8873576308335696\n",
      "In epoch 25, loss: 0.444010853767395\n",
      "AUC 0.8914269076229753\n",
      "AUC 0.8954276370861108\n",
      "AUC 0.8994240956877966\n",
      "AUC 0.9032917878167698\n",
      "AUC 0.90756371698197\n",
      "In epoch 30, loss: 0.41496729850769043\n",
      "AUC 0.9120310380585006\n",
      "AUC 0.9157567240442666\n",
      "AUC 0.9190632249787312\n",
      "AUC 0.922028697626426\n",
      "AUC 0.924556620518585\n",
      "In epoch 35, loss: 0.38996532559394836\n",
      "AUC 0.927206049418992\n",
      "AUC 0.9296842167752605\n",
      "AUC 0.9318183662417443\n",
      "AUC 0.9336266489796058\n",
      "AUC 0.9352104979482782\n",
      "AUC 0.9352104979482782\n"
     ]
    }
   ],
   "source": [
    "# ----------- 3. set up loss and optimizer -------------- #\n",
    "# in this case, loss will in training loop\n",
    "optimizer = torch.optim.Adam(pred1.parameters(), lr=0.002)\n",
    "\n",
    "# ----------- 4. training -------------------------------- #\n",
    "all_logits = []\n",
    "for e in range(40):\n",
    "    # forward\n",
    "    pred1.train()\n",
    "    pos_score = pred1(train_pos_edges1, train_pos_edges2)\n",
    "    neg_score = pred1(train_neg_edges1, train_neg_edges1)\n",
    "    loss = compute_loss(pos_score, neg_score)\n",
    "#     print('In epoch {}, loss: {}'.format(e, loss.data))\n",
    "    # backward\n",
    "    optimizer.zero_grad()\n",
    "    loss.backward()\n",
    "    optimizer.step()\n",
    "\n",
    "    if e % 5 == 0:\n",
    "        print('In epoch {}, loss: {}'.format(e, loss.data))\n",
    "\n",
    "#     ----------- 5. check results ------------------------ #\n",
    "    from sklearn.metrics import roc_auc_score\n",
    "    with torch.no_grad():\n",
    "        pos_score = pred1(test_pos_edges1, test_pos_edges2)\n",
    "        neg_score = pred1(test_neg_edges1, test_neg_edges1)\n",
    "        print('AUC', compute_auc(pos_score, neg_score))\n",
    "\n",
    "\n",
    "pred1.eval()\n",
    "# ----------- 5. check results ------------------------ #\n",
    "from sklearn.metrics import roc_auc_score\n",
    "with torch.no_grad():\n",
    "    pos_score = pred1(test_pos_edges1, test_pos_edges2)\n",
    "    neg_score = pred1(test_neg_edges1, test_neg_edges1)\n",
    "    print('AUC', compute_auc(pos_score, neg_score))"
   ]
  },
  {
   "cell_type": "code",
   "execution_count": 176,
   "id": "d5d82fbe",
   "metadata": {},
   "outputs": [
    {
     "data": {
      "text/plain": [
       "tensor([2.4759, 0.0218, 2.2182,  ..., 0.7922, 1.1140, 0.7528], device='cuda:0')"
      ]
     },
     "execution_count": 176,
     "metadata": {},
     "output_type": "execute_result"
    }
   ],
   "source": [
    "pos_score"
   ]
  },
  {
   "cell_type": "code",
   "execution_count": 177,
   "id": "621b0774",
   "metadata": {},
   "outputs": [
    {
     "data": {
      "text/plain": [
       "tensor([-0.4940,  0.2542, -0.0780,  ...,  0.2352,  0.1948, -0.2595],\n",
       "       device='cuda:0')"
      ]
     },
     "execution_count": 177,
     "metadata": {},
     "output_type": "execute_result"
    }
   ],
   "source": [
    "neg_score"
   ]
  },
  {
   "cell_type": "code",
   "execution_count": 178,
   "id": "117ea8cf",
   "metadata": {},
   "outputs": [
    {
     "data": {
      "text/plain": [
       "tensor([0.9224, 0.5055, 0.9019,  ..., 0.6883, 0.7529, 0.6798], device='cuda:0')"
      ]
     },
     "execution_count": 178,
     "metadata": {},
     "output_type": "execute_result"
    }
   ],
   "source": [
    "torch.special.expit(pos_score)"
   ]
  },
  {
   "cell_type": "code",
   "execution_count": 179,
   "id": "fe73366e",
   "metadata": {
    "scrolled": true
   },
   "outputs": [
    {
     "data": {
      "text/plain": [
       "tensor([0.3790, 0.5632, 0.4805,  ..., 0.5585, 0.5485, 0.4355], device='cuda:0')"
      ]
     },
     "execution_count": 179,
     "metadata": {},
     "output_type": "execute_result"
    }
   ],
   "source": [
    "torch.special.expit(neg_score)"
   ]
  },
  {
   "cell_type": "code",
   "execution_count": null,
   "id": "14469747",
   "metadata": {},
   "outputs": [],
   "source": []
  }
 ],
 "metadata": {
  "kernelspec": {
   "display_name": "Python [conda env:py37] *",
   "language": "python",
   "name": "conda-env-py37-py"
  },
  "language_info": {
   "codemirror_mode": {
    "name": "ipython",
    "version": 3
   },
   "file_extension": ".py",
   "mimetype": "text/x-python",
   "name": "python",
   "nbconvert_exporter": "python",
   "pygments_lexer": "ipython3",
   "version": "3.7.11"
  }
 },
 "nbformat": 4,
 "nbformat_minor": 5
}
